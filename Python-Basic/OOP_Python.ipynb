{
 "cells": [
  {
   "cell_type": "code",
   "execution_count": 157,
   "metadata": {},
   "outputs": [],
   "source": [
    "class test:\n",
    "    \n",
    "    zoo = 'zoo'\n",
    "    def __init__(self, name, gender, ages):\n",
    "        self.name = name\n",
    "        self.gender = gender\n",
    "        self.ages = ages\n",
    "    \n",
    "    def __my_alex(self):\n",
    "        print('my name is {}'.format(self.name))\n",
    "        return self.name\n",
    "    \n",
    "    @classmethod\n",
    "    def speacial_method(cls):\n",
    "        my_list = ['ken','male','30']\n",
    "        return cls(name = my_list[0],gender=my_list[1],ages=my_list[2])\n",
    "    \n",
    "    @staticmethod\n",
    "    def bar(name):\n",
    "        print(\"hi! %s, it's staticmethod .\" % name)\n",
    "        print(\"zoo =\",test.zoo )\n",
    "        return name"
   ]
  },
  {
   "cell_type": "code",
   "execution_count": 161,
   "metadata": {},
   "outputs": [
    {
     "ename": "AttributeError",
     "evalue": "'test' object has no attribute 'my_alex'",
     "output_type": "error",
     "traceback": [
      "\u001b[1;31m---------------------------------------------------------------------------\u001b[0m",
      "\u001b[1;31mAttributeError\u001b[0m                            Traceback (most recent call last)",
      "\u001b[1;32m<ipython-input-161-8761492e494b>\u001b[0m in \u001b[0;36m<module>\u001b[1;34m()\u001b[0m\n\u001b[0;32m      1\u001b[0m \u001b[0mtryhard\u001b[0m \u001b[1;33m=\u001b[0m \u001b[0mtest\u001b[0m\u001b[1;33m(\u001b[0m\u001b[1;34m'Alex'\u001b[0m\u001b[1;33m,\u001b[0m\u001b[1;34m'female'\u001b[0m\u001b[1;33m,\u001b[0m\u001b[1;34m'27'\u001b[0m\u001b[1;33m)\u001b[0m\u001b[1;33m\u001b[0m\u001b[0m\n\u001b[1;32m----> 2\u001b[1;33m \u001b[0mtryhard\u001b[0m\u001b[1;33m.\u001b[0m\u001b[0mmy_alex\u001b[0m\u001b[1;33m(\u001b[0m\u001b[1;33m)\u001b[0m\u001b[1;33m\u001b[0m\u001b[0m\n\u001b[0m",
      "\u001b[1;31mAttributeError\u001b[0m: 'test' object has no attribute 'my_alex'"
     ]
    }
   ],
   "source": [
    "tryhard = test('Alex','female','27')\n",
    "tryhard.my_alex()"
   ]
  },
  {
   "cell_type": "code",
   "execution_count": 64,
   "metadata": {},
   "outputs": [
    {
     "data": {
      "text/plain": [
       "<bound method test.speacial_method of <class '__main__.test'>>"
      ]
     },
     "execution_count": 64,
     "metadata": {},
     "output_type": "execute_result"
    }
   ],
   "source": [
    "tryhard.speacial_method"
   ]
  },
  {
   "cell_type": "code",
   "execution_count": 68,
   "metadata": {},
   "outputs": [
    {
     "data": {
      "text/plain": [
       "'27'"
      ]
     },
     "execution_count": 68,
     "metadata": {},
     "output_type": "execute_result"
    }
   ],
   "source": [
    "tryhard.ages"
   ]
  },
  {
   "cell_type": "code",
   "execution_count": 66,
   "metadata": {},
   "outputs": [],
   "source": [
    "uu =tryhard.speacial_method()"
   ]
  },
  {
   "cell_type": "code",
   "execution_count": 67,
   "metadata": {},
   "outputs": [
    {
     "data": {
      "text/plain": [
       "'30'"
      ]
     },
     "execution_count": 67,
     "metadata": {},
     "output_type": "execute_result"
    }
   ],
   "source": [
    "uu.ages"
   ]
  },
  {
   "cell_type": "code",
   "execution_count": 51,
   "metadata": {},
   "outputs": [
    {
     "name": "stdout",
     "output_type": "stream",
     "text": [
      "my name is Alex\n"
     ]
    },
    {
     "data": {
      "text/plain": [
       "'Alex'"
      ]
     },
     "execution_count": 51,
     "metadata": {},
     "output_type": "execute_result"
    }
   ],
   "source": [
    "tryhard.my_alex()"
   ]
  },
  {
   "cell_type": "code",
   "execution_count": 39,
   "metadata": {},
   "outputs": [
    {
     "name": "stdout",
     "output_type": "stream",
     "text": [
      "hi! name, it's staticmethod .\n",
      "zoo = zoo\n"
     ]
    },
    {
     "ename": "NameError",
     "evalue": "name 'self' is not defined",
     "output_type": "error",
     "traceback": [
      "\u001b[1;31m---------------------------------------------------------------------------\u001b[0m",
      "\u001b[1;31mNameError\u001b[0m                                 Traceback (most recent call last)",
      "\u001b[1;32m<ipython-input-39-0074699e2210>\u001b[0m in \u001b[0;36m<module>\u001b[1;34m()\u001b[0m\n\u001b[1;32m----> 1\u001b[1;33m \u001b[0mtryhard\u001b[0m\u001b[1;33m.\u001b[0m\u001b[0mbar\u001b[0m\u001b[1;33m(\u001b[0m\u001b[1;34m'name'\u001b[0m\u001b[1;33m)\u001b[0m\u001b[1;33m\u001b[0m\u001b[0m\n\u001b[0m",
      "\u001b[1;32m<ipython-input-36-6a824365f5f0>\u001b[0m in \u001b[0;36mbar\u001b[1;34m(name)\u001b[0m\n\u001b[0;32m     15\u001b[0m         \u001b[0mprint\u001b[0m\u001b[1;33m(\u001b[0m\u001b[1;34m\"hi! %s, it's staticmethod .\"\u001b[0m \u001b[1;33m%\u001b[0m \u001b[0mname\u001b[0m\u001b[1;33m)\u001b[0m\u001b[1;33m\u001b[0m\u001b[0m\n\u001b[0;32m     16\u001b[0m         \u001b[0mprint\u001b[0m\u001b[1;33m(\u001b[0m\u001b[1;34m\"zoo =\"\u001b[0m\u001b[1;33m,\u001b[0m\u001b[0mtest\u001b[0m\u001b[1;33m.\u001b[0m\u001b[0mzoo\u001b[0m \u001b[1;33m)\u001b[0m\u001b[1;33m\u001b[0m\u001b[0m\n\u001b[1;32m---> 17\u001b[1;33m         \u001b[0mprint\u001b[0m\u001b[1;33m(\u001b[0m\u001b[0mself\u001b[0m\u001b[1;33m.\u001b[0m\u001b[0mname\u001b[0m\u001b[1;33m)\u001b[0m\u001b[1;33m\u001b[0m\u001b[0m\n\u001b[0m\u001b[0;32m     18\u001b[0m         \u001b[1;32mreturn\u001b[0m \u001b[0mname\u001b[0m\u001b[1;33m\u001b[0m\u001b[0m\n",
      "\u001b[1;31mNameError\u001b[0m: name 'self' is not defined"
     ]
    }
   ],
   "source": [
    "tryhard.bar('name')"
   ]
  },
  {
   "cell_type": "code",
   "execution_count": 98,
   "metadata": {
    "collapsed": true
   },
   "outputs": [],
   "source": [
    "class master:\n",
    "    def __init__(self,number,places):\n",
    "        self.number = number\n",
    "        self.places = places\n",
    "    def __repr__(self):\n",
    "        return \"%.{}f\".format(self.places) % self.number"
   ]
  },
  {
   "cell_type": "code",
   "execution_count": 112,
   "metadata": {
    "collapsed": true
   },
   "outputs": [],
   "source": [
    "class slave(master):\n",
    "    def __init__(self,number,places,symbol):\n",
    "        super().__init__(number, places)\n",
    "        self.symbol = symbol\n",
    "        \n",
    "    def __repr__(self):\n",
    "        return \"{}{}\".format(self.symbol, super().__repr__())"
   ]
  },
  {
   "cell_type": "code",
   "execution_count": 100,
   "metadata": {},
   "outputs": [
    {
     "name": "stdout",
     "output_type": "stream",
     "text": [
      "15.600\n"
     ]
    }
   ],
   "source": [
    "print(master(15.6,3))"
   ]
  },
  {
   "cell_type": "code",
   "execution_count": 101,
   "metadata": {},
   "outputs": [],
   "source": [
    "k = master(15.6,3)"
   ]
  },
  {
   "cell_type": "code",
   "execution_count": 84,
   "metadata": {},
   "outputs": [
    {
     "data": {
      "text/plain": [
       "15.6"
      ]
     },
     "execution_count": 84,
     "metadata": {},
     "output_type": "execute_result"
    }
   ],
   "source": [
    "k.number"
   ]
  },
  {
   "cell_type": "code",
   "execution_count": 113,
   "metadata": {},
   "outputs": [
    {
     "name": "stdout",
     "output_type": "stream",
     "text": [
      "$3.000\n"
     ]
    }
   ],
   "source": [
    "print( slave(3,3,\"$\"))"
   ]
  },
  {
   "cell_type": "code",
   "execution_count": null,
   "metadata": {},
   "outputs": [],
   "source": []
  },
  {
   "cell_type": "code",
   "execution_count": 124,
   "metadata": {},
   "outputs": [],
   "source": [
    "class ClassA:\n",
    "    def hi(self):\n",
    "        print('Hello!')\n",
    "\n",
    "class ClassB:\n",
    "    def hi(self):\n",
    "        print('Hallo!')\n",
    "\n",
    "class ClassC(ClassA, ClassB):\n",
    "     pass"
   ]
  },
  {
   "cell_type": "code",
   "execution_count": 121,
   "metadata": {
    "collapsed": true
   },
   "outputs": [],
   "source": [
    "c = ClassC()"
   ]
  },
  {
   "cell_type": "code",
   "execution_count": 122,
   "metadata": {},
   "outputs": [
    {
     "name": "stdout",
     "output_type": "stream",
     "text": [
      "Hello!\n"
     ]
    }
   ],
   "source": [
    "c.hi()"
   ]
  },
  {
   "cell_type": "code",
   "execution_count": null,
   "metadata": {
    "collapsed": true
   },
   "outputs": [],
   "source": []
  },
  {
   "cell_type": "code",
   "execution_count": 131,
   "metadata": {},
   "outputs": [],
   "source": [
    "#Composition\n",
    "class Leg:\n",
    "    pass\n",
    "\n",
    "class Back:\n",
    "    pass\n",
    "\n",
    "class Chair:\n",
    "    def __init__(self, num_legs):\n",
    "        self.legs = [Leg() for leg in range(num_legs)]\n",
    "        self.back = Back()\n",
    "        \n",
    "    def __repr__(self):\n",
    "        return \"I have {} legs and one back\".format(len(self.legs))"
   ]
  },
  {
   "cell_type": "code",
   "execution_count": 132,
   "metadata": {},
   "outputs": [
    {
     "name": "stdout",
     "output_type": "stream",
     "text": [
      "I have 5 legs and one back\n"
     ]
    }
   ],
   "source": [
    "print(Chair(5))"
   ]
  },
  {
   "cell_type": "code",
   "execution_count": 133,
   "metadata": {
    "collapsed": true
   },
   "outputs": [],
   "source": [
    "a = Chair(5)"
   ]
  },
  {
   "cell_type": "code",
   "execution_count": 134,
   "metadata": {},
   "outputs": [
    {
     "data": {
      "text/plain": [
       "[<__main__.Leg at 0x221caba5048>,\n",
       " <__main__.Leg at 0x221caba5518>,\n",
       " <__main__.Leg at 0x221caba5ac8>,\n",
       " <__main__.Leg at 0x221caba58d0>,\n",
       " <__main__.Leg at 0x221caba55f8>]"
      ]
     },
     "execution_count": 134,
     "metadata": {},
     "output_type": "execute_result"
    }
   ],
   "source": [
    "a.legs"
   ]
  },
  {
   "cell_type": "code",
   "execution_count": null,
   "metadata": {
    "collapsed": true
   },
   "outputs": [],
   "source": []
  },
  {
   "cell_type": "code",
   "execution_count": null,
   "metadata": {
    "collapsed": true
   },
   "outputs": [],
   "source": [
    "#encapsulation\n",
    "#is the hiding of inner working class when showing those inner working id is not necessary\n",
    "\n"
   ]
  },
  {
   "cell_type": "code",
   "execution_count": null,
   "metadata": {
    "collapsed": true
   },
   "outputs": [],
   "source": []
  },
  {
   "cell_type": "code",
   "execution_count": 137,
   "metadata": {},
   "outputs": [
    {
     "name": "stdout",
     "output_type": "stream",
     "text": [
      "Enter a number: a\n",
      "enter a number\n",
      "Hello\n"
     ]
    }
   ],
   "source": [
    "#Exceptions\n",
    "\n",
    "number = input('Enter a number: ')\n",
    "try:\n",
    "    print(int(number)*2)\n",
    "except ValueError:\n",
    "    print('enter a number')\n",
    "    \n",
    "print('Hello')"
   ]
  },
  {
   "cell_type": "code",
   "execution_count": 141,
   "metadata": {
    "collapsed": true
   },
   "outputs": [
    {
     "ename": "NameError",
     "evalue": "name 'JSONDecodeError' is not defined",
     "output_type": "error",
     "traceback": [
      "\u001b[1;31m---------------------------------------------------------------------------\u001b[0m",
      "\u001b[1;31mAttributeError\u001b[0m                            Traceback (most recent call last)",
      "\u001b[1;32m<ipython-input-141-13c59da8c0ea>\u001b[0m in \u001b[0;36m<module>\u001b[1;34m()\u001b[0m\n\u001b[0;32m      5\u001b[0m \u001b[1;32mtry\u001b[0m\u001b[1;33m:\u001b[0m\u001b[1;33m\u001b[0m\u001b[0m\n\u001b[1;32m----> 6\u001b[1;33m     \u001b[0mlabel\u001b[0m \u001b[1;33m=\u001b[0m \u001b[0mr\u001b[0m\u001b[1;33m.\u001b[0m\u001b[0mjason\u001b[0m\u001b[1;33m(\u001b[0m\u001b[1;33m)\u001b[0m\u001b[1;33m[\u001b[0m\u001b[1;34m'lable'\u001b[0m\u001b[1;33m]\u001b[0m\u001b[1;33m\u001b[0m\u001b[0m\n\u001b[0m\u001b[0;32m      7\u001b[0m \u001b[1;32mexcept\u001b[0m \u001b[0mJSONDecodeError\u001b[0m\u001b[1;33m:\u001b[0m\u001b[1;33m\u001b[0m\u001b[0m\n",
      "\u001b[1;31mAttributeError\u001b[0m: 'Response' object has no attribute 'jason'",
      "\nDuring handling of the above exception, another exception occurred:\n",
      "\u001b[1;31mNameError\u001b[0m                                 Traceback (most recent call last)",
      "\u001b[1;32m<ipython-input-141-13c59da8c0ea>\u001b[0m in \u001b[0;36m<module>\u001b[1;34m()\u001b[0m\n\u001b[0;32m      5\u001b[0m \u001b[1;32mtry\u001b[0m\u001b[1;33m:\u001b[0m\u001b[1;33m\u001b[0m\u001b[0m\n\u001b[0;32m      6\u001b[0m     \u001b[0mlabel\u001b[0m \u001b[1;33m=\u001b[0m \u001b[0mr\u001b[0m\u001b[1;33m.\u001b[0m\u001b[0mjason\u001b[0m\u001b[1;33m(\u001b[0m\u001b[1;33m)\u001b[0m\u001b[1;33m[\u001b[0m\u001b[1;34m'lable'\u001b[0m\u001b[1;33m]\u001b[0m\u001b[1;33m\u001b[0m\u001b[0m\n\u001b[1;32m----> 7\u001b[1;33m \u001b[1;32mexcept\u001b[0m \u001b[0mJSONDecodeError\u001b[0m\u001b[1;33m:\u001b[0m\u001b[1;33m\u001b[0m\u001b[0m\n\u001b[0m\u001b[0;32m      8\u001b[0m     \u001b[0mprint\u001b[0m\u001b[1;33m(\u001b[0m\u001b[1;34m\"We couldn't decode the JSON reponse\"\u001b[0m\u001b[1;33m)\u001b[0m\u001b[1;33m\u001b[0m\u001b[0m\n\u001b[0;32m      9\u001b[0m \u001b[1;32mexcept\u001b[0m \u001b[0mKeyError\u001b[0m\u001b[1;33m:\u001b[0m\u001b[1;33m\u001b[0m\u001b[0m\n",
      "\u001b[1;31mNameError\u001b[0m: name 'JSONDecodeError' is not defined"
     ]
    }
   ],
   "source": [
    "import requests\n",
    "import json\n",
    "\n",
    "r=requests.post('http://text-processing.com/api/sentiment',data={'text':'hello world'})\n",
    "try:\n",
    "    label = r.jason()['lable']\n",
    "except JSONDecodeError:\n",
    "    print(\"We couldn't decode the JSON reponse\")\n",
    "except KeyError:\n",
    "    print('we got JSON error')\n",
    "    \n"
   ]
  },
  {
   "cell_type": "code",
   "execution_count": null,
   "metadata": {
    "collapsed": true
   },
   "outputs": [],
   "source": [
    "#Custom Expection\n",
    "class MissingLabelError(KeyError):\n",
    "    pass\n",
    "\n",
    "class PageNotFoundError(LookupError):\n",
    "    pass\n",
    "\n",
    "class IncorrectPasswordError(ValueError):\n",
    "    pass\n",
    "\n",
    "class IncorrectUsernameError(ValueError):\n",
    "    pass\n",
    "\n",
    "class APIThrottleLimitError(RuntimeError):\n",
    "    pass"
   ]
  },
  {
   "cell_type": "code",
   "execution_count": null,
   "metadata": {
    "collapsed": true
   },
   "outputs": [],
   "source": [
    "def login():\n",
    "    raise IncorrectPasswordError\n",
    "    \n",
    "try:\n",
    "    login()\n",
    "except IncorrectUsernameError:\n",
    "    print(\"username incorrect\")\n",
    "except IncorrectPasswordError:\n",
    "    print(\"password incorrect\")\n",
    "    "
   ]
  },
  {
   "cell_type": "code",
   "execution_count": 146,
   "metadata": {},
   "outputs": [
    {
     "ename": "AttributeError",
     "evalue": "'myclass' object has no attribute 'my_property'",
     "output_type": "error",
     "traceback": [
      "\u001b[1;31m---------------------------------------------------------------------------\u001b[0m",
      "\u001b[1;31mAttributeError\u001b[0m                            Traceback (most recent call last)",
      "\u001b[1;32m<ipython-input-146-581742ad58b5>\u001b[0m in \u001b[0;36m<module>\u001b[1;34m()\u001b[0m\n\u001b[0;32m      6\u001b[0m \u001b[1;33m\u001b[0m\u001b[0m\n\u001b[0;32m      7\u001b[0m \u001b[0mx\u001b[0m\u001b[1;33m=\u001b[0m \u001b[0mmyclass\u001b[0m\u001b[1;33m(\u001b[0m\u001b[1;33m)\u001b[0m\u001b[1;33m\u001b[0m\u001b[0m\n\u001b[1;32m----> 8\u001b[1;33m \u001b[0mx\u001b[0m\u001b[1;33m.\u001b[0m\u001b[0mmy_property\u001b[0m\u001b[1;33m\u001b[0m\u001b[0m\n\u001b[0m\u001b[0;32m      9\u001b[0m \u001b[1;33m\u001b[0m\u001b[0m\n\u001b[0;32m     10\u001b[0m \u001b[1;31m# ImportError\u001b[0m\u001b[1;33m\u001b[0m\u001b[1;33m\u001b[0m\u001b[0m\n",
      "\u001b[1;31mAttributeError\u001b[0m: 'myclass' object has no attribute 'my_property'"
     ]
    }
   ],
   "source": [
    "#Bulit-in exception \n",
    "\n",
    "# AttributeError\n",
    "class myclass:\n",
    "    pass\n",
    "\n",
    "x= myclass()\n",
    "x.my_property\n",
    "\n",
    "# ImportError\n",
    "import ken_speacial\n",
    "\n",
    "# KeyError\n",
    "my_dict = {'x':5,'y':10}\n",
    "print(my_dict['z'])\n",
    "\n",
    "# RuntimeError\n",
    "\n",
    "# TypeError\n",
    "\n",
    "# ValueError\n",
    "\n",
    "# IOError"
   ]
  },
  {
   "cell_type": "code",
   "execution_count": null,
   "metadata": {
    "collapsed": true
   },
   "outputs": [],
   "source": []
  },
  {
   "cell_type": "code",
   "execution_count": 188,
   "metadata": {},
   "outputs": [],
   "source": [
    "# Python Bulit-in method\n",
    "class Currency:\n",
    "    def __init__(self, code, exchange_to_usd):\n",
    "        self.code = code\n",
    "        self.exchange_to_usd = exchange_to_usd\n",
    "        \n",
    "    def set_amount(self, amount):\n",
    "        self.amount = amount\n",
    "        \n",
    "    def in_currency(self, amount):\n",
    "        return amount/ self.exchange_to_usd\n",
    "    \n",
    "    def to_usd(self, amount=None):\n",
    "        to_convert = amount or self.amount\n",
    "        return to_convert * self.exchange_to_usd\n",
    "    \n",
    "    '''Greater then: Takes it self and another'''\n",
    "    def __gt__(self, other):\n",
    "        return self.to_usd() > other.to_usd()\n",
    "    \n",
    "    def __lt__(self, other):\n",
    "        pass\n",
    "    \n",
    "    def __le__(self,other):\n",
    "        pass\n",
    "    \n",
    "    def __ge__(self, other):\n",
    "        pass\n",
    "    \n",
    "    def __eq__(self,other):\n",
    "        return self.to_usd() == other.to_usd()\n",
    "    "
   ]
  },
  {
   "cell_type": "code",
   "execution_count": 189,
   "metadata": {},
   "outputs": [
    {
     "name": "stdout",
     "output_type": "stream",
     "text": [
      "826.4462809917355\n",
      "1210.0\n",
      "True\n",
      "False\n"
     ]
    }
   ],
   "source": [
    "ponds = Currency(\"GBP\",1.21)\n",
    "print(ponds.in_currency(1000))\n",
    "print(ponds.to_usd(1000))\n",
    "ponds.set_amount(1000)\n",
    "euros = Currency(\"EUR\", 1.07)\n",
    "euros.set_amount(1000)\n",
    "\n",
    "# print(ponds.to_usd() > euros.to_usd())\n",
    "print(ponds > euros) # ponds.__gt__(euros)\n",
    "print(ponds == euros)"
   ]
  },
  {
   "cell_type": "code",
   "execution_count": null,
   "metadata": {
    "collapsed": true
   },
   "outputs": [],
   "source": []
  },
  {
   "cell_type": "code",
   "execution_count": null,
   "metadata": {
    "collapsed": true
   },
   "outputs": [],
   "source": []
  },
  {
   "cell_type": "code",
   "execution_count": 193,
   "metadata": {},
   "outputs": [],
   "source": [
    "# Assert : To check something is true or not if flase it will raise an error\n",
    "\n",
    "number = 10\n",
    "divisor =0\n",
    "\n",
    "def divide_secure():\n",
    "    if divisor == 0:\n",
    "        raise ValueError(\"The divisor is 0!\")\n",
    "    return number / divisor\n"
   ]
  },
  {
   "cell_type": "code",
   "execution_count": 194,
   "metadata": {},
   "outputs": [
    {
     "ename": "ValueError",
     "evalue": "The divisor is 0!",
     "output_type": "error",
     "traceback": [
      "\u001b[1;31m---------------------------------------------------------------------------\u001b[0m",
      "\u001b[1;31mValueError\u001b[0m                                Traceback (most recent call last)",
      "\u001b[1;32m<ipython-input-194-8336d2ac26af>\u001b[0m in \u001b[0;36m<module>\u001b[1;34m()\u001b[0m\n\u001b[1;32m----> 1\u001b[1;33m \u001b[0mdivide_secure\u001b[0m\u001b[1;33m(\u001b[0m\u001b[1;33m)\u001b[0m\u001b[1;33m\u001b[0m\u001b[0m\n\u001b[0m",
      "\u001b[1;32m<ipython-input-193-a58cbb5e9cc2>\u001b[0m in \u001b[0;36mdivide_secure\u001b[1;34m()\u001b[0m\n\u001b[0;32m      6\u001b[0m \u001b[1;32mdef\u001b[0m \u001b[0mdivide_secure\u001b[0m\u001b[1;33m(\u001b[0m\u001b[1;33m)\u001b[0m\u001b[1;33m:\u001b[0m\u001b[1;33m\u001b[0m\u001b[0m\n\u001b[0;32m      7\u001b[0m     \u001b[1;32mif\u001b[0m \u001b[0mdivisor\u001b[0m \u001b[1;33m==\u001b[0m \u001b[1;36m0\u001b[0m\u001b[1;33m:\u001b[0m\u001b[1;33m\u001b[0m\u001b[0m\n\u001b[1;32m----> 8\u001b[1;33m         \u001b[1;32mraise\u001b[0m \u001b[0mValueError\u001b[0m\u001b[1;33m(\u001b[0m\u001b[1;34m\"The divisor is 0!\"\u001b[0m\u001b[1;33m)\u001b[0m\u001b[1;33m\u001b[0m\u001b[0m\n\u001b[0m\u001b[0;32m      9\u001b[0m     \u001b[1;32mreturn\u001b[0m \u001b[0mnumber\u001b[0m \u001b[1;33m/\u001b[0m \u001b[0mdivisor\u001b[0m\u001b[1;33m\u001b[0m\u001b[0m\n",
      "\u001b[1;31mValueError\u001b[0m: The divisor is 0!"
     ]
    }
   ],
   "source": [
    "divide_secure()"
   ]
  },
  {
   "cell_type": "code",
   "execution_count": 203,
   "metadata": {},
   "outputs": [],
   "source": [
    "def divide_secure(number, divisor):\n",
    "    assert divisor != 0 , \"No 0 for divisor!\"\n",
    "    return number / divisor"
   ]
  },
  {
   "cell_type": "code",
   "execution_count": 204,
   "metadata": {},
   "outputs": [
    {
     "ename": "AssertionError",
     "evalue": "No 0 for divisor!",
     "output_type": "error",
     "traceback": [
      "\u001b[1;31m---------------------------------------------------------------------------\u001b[0m",
      "\u001b[1;31mAssertionError\u001b[0m                            Traceback (most recent call last)",
      "\u001b[1;32m<ipython-input-204-6be1403120a2>\u001b[0m in \u001b[0;36m<module>\u001b[1;34m()\u001b[0m\n\u001b[1;32m----> 1\u001b[1;33m \u001b[0mdivide_secure\u001b[0m\u001b[1;33m(\u001b[0m\u001b[1;36m10\u001b[0m\u001b[1;33m,\u001b[0m\u001b[1;36m0\u001b[0m\u001b[1;33m)\u001b[0m\u001b[1;33m\u001b[0m\u001b[0m\n\u001b[0m",
      "\u001b[1;32m<ipython-input-203-a2b7494710ba>\u001b[0m in \u001b[0;36mdivide_secure\u001b[1;34m(number, divisor)\u001b[0m\n\u001b[0;32m      1\u001b[0m \u001b[1;32mdef\u001b[0m \u001b[0mdivide_secure\u001b[0m\u001b[1;33m(\u001b[0m\u001b[0mnumber\u001b[0m\u001b[1;33m,\u001b[0m \u001b[0mdivisor\u001b[0m\u001b[1;33m)\u001b[0m\u001b[1;33m:\u001b[0m\u001b[1;33m\u001b[0m\u001b[0m\n\u001b[1;32m----> 2\u001b[1;33m     \u001b[1;32massert\u001b[0m \u001b[0mdivisor\u001b[0m \u001b[1;33m!=\u001b[0m \u001b[1;36m0\u001b[0m \u001b[1;33m,\u001b[0m \u001b[1;34m\"No 0 for divisor!\"\u001b[0m\u001b[1;33m\u001b[0m\u001b[0m\n\u001b[0m\u001b[0;32m      3\u001b[0m     \u001b[1;32mreturn\u001b[0m \u001b[0mnumber\u001b[0m \u001b[1;33m/\u001b[0m \u001b[0mdivisor\u001b[0m\u001b[1;33m\u001b[0m\u001b[0m\n",
      "\u001b[1;31mAssertionError\u001b[0m: No 0 for divisor!"
     ]
    }
   ],
   "source": [
    "divide_secure(10,0)"
   ]
  },
  {
   "cell_type": "code",
   "execution_count": 205,
   "metadata": {
    "collapsed": true
   },
   "outputs": [],
   "source": [
    "# Lambda expression\n",
    "l = lambda x:x>5"
   ]
  },
  {
   "cell_type": "code",
   "execution_count": 206,
   "metadata": {},
   "outputs": [
    {
     "data": {
      "text/plain": [
       "True"
      ]
     },
     "execution_count": 206,
     "metadata": {},
     "output_type": "execute_result"
    }
   ],
   "source": [
    "l(10)"
   ]
  },
  {
   "cell_type": "code",
   "execution_count": 214,
   "metadata": {
    "collapsed": true
   },
   "outputs": [],
   "source": [
    "def alter(value, check):\n",
    "    return [val for val in value if check(val)]\n",
    "\n",
    "def alter_2(value, check):\n",
    "    return list(filter(check,value))"
   ]
  },
  {
   "cell_type": "code",
   "execution_count": 213,
   "metadata": {},
   "outputs": [
    {
     "data": {
      "text/plain": [
       "[1, 2, 3, 4]"
      ]
     },
     "execution_count": 213,
     "metadata": {},
     "output_type": "execute_result"
    }
   ],
   "source": [
    "my_list = [1,2,3,4,5]\n",
    "another_list = alter(my_list, lambda x: x !=5)\n",
    "another_list"
   ]
  },
  {
   "cell_type": "code",
   "execution_count": 225,
   "metadata": {
    "collapsed": true
   },
   "outputs": [],
   "source": [
    "# More Lambda\n",
    "\n",
    "def remove_numbers(value):\n",
    "    #return alter(value, lambda x: type(x) != int)\n",
    "    return alter(value, lambda x:x not in [str(n) for n in range(10)])\n",
    "\n",
    "def skip_letter(value, letter):\n",
    "    #return alter(value, lambda x:x.replace(letter,''))\n",
    "    return alter(value, lambda x:x != letter)"
   ]
  },
  {
   "cell_type": "code",
   "execution_count": 226,
   "metadata": {},
   "outputs": [
    {
     "name": "stdout",
     "output_type": "stream",
     "text": [
      "['h', 'l', 'l', 'o']\n"
     ]
    }
   ],
   "source": [
    "print(skip_letter('hello','e'))"
   ]
  },
  {
   "cell_type": "code",
   "execution_count": 268,
   "metadata": {},
   "outputs": [
    {
     "name": "stdout",
     "output_type": "stream",
     "text": [
      "['USD', 'GBP', 'EUR', 'JPY']\n",
      "[<__main__.Currency object at 0x00000221CC34DC50>, <__main__.Currency object at 0x00000221CC32C4A8>, <__main__.Currency object at 0x00000221CC32C518>, <__main__.Currency object at 0x00000221CC32C5C0>]\n",
      "-- 1000 USD in all currencies --\n",
      "In usd : 1000.0\n",
      "In gbp : 1210.0\n",
      "In eur : 1070.0\n",
      "In jpy : 140.0\n",
      "None\n"
     ]
    }
   ],
   "source": [
    "#Lambdas in the wild\n",
    "\n",
    "\n",
    "class Currency:\n",
    "    def __init__(self, code, exchange_to_usd):\n",
    "        self.code = code\n",
    "        self.exchange_to_usd = exchange_to_usd\n",
    "        \n",
    "    def set_amount(self, amount):\n",
    "        self.amount = amount\n",
    "        \n",
    "    def in_currency(self, amount):\n",
    "        return amount/ self.exchange_to_usd\n",
    "    \n",
    "    def to_usd(self, amount=None):\n",
    "        to_convert = amount or self.amount\n",
    "        return to_convert * self.exchange_to_usd\n",
    "    \n",
    "    '''Greater then: Takes it self and another'''\n",
    "    def __gt__(self, other):\n",
    "        return self.to_usd() > other.to_usd()\n",
    "    \n",
    "    def __lt__(self, other):\n",
    "        return self.to_usd() < other.to_usd()\n",
    "    \n",
    "    def __le__(self,other):\n",
    "        return self.to_usd() <= other.to_usd()\n",
    "    \n",
    "    def __ge__(self, other):\n",
    "        return self.to_usd() >= other.to_usd()\n",
    "    \n",
    "    def __eq__(self,other):\n",
    "        return self.to_usd() == other.to_usd()\n",
    "    \n",
    "def _get_currence_resource(resource, transform=(lambda x:x)):\n",
    "    #requests.get(xxx)...json()\n",
    "    data={\n",
    "        'items':[\n",
    "            {'code': 'usd','amount_to_usd': 1.00},\n",
    "            {'code': 'gbp','amount_to_usd': 1.21},\n",
    "            {'code': 'eur','amount_to_usd': 1.07},\n",
    "            {'code': 'jpy','amount_to_usd': 0.14},\n",
    "        ]\n",
    "    }\n",
    "    \n",
    "    my_resource = data[resource]\n",
    "    #return list(map(transform, my_resource))\n",
    "    return [transform(x) for x in my_resource]\n",
    "\n",
    "def get_currency_codes():\n",
    "    return _get_currence_resource('items', lambda x: x['code'].upper())\n",
    "\n",
    "def get_currencies():\n",
    "    return  _get_currence_resource('items', lambda x: Currency(x['code'], x['amount_to_usd']))\n",
    "\n",
    "def calculate_in_all_currencies(usd_amount):\n",
    "    print('-- {} USD in all currencies --'.format(usd_amount))\n",
    "    for currency in get_currencies():\n",
    "        print(\"In {} : {}\".format(currency.code, currency.to_usd(usd_amount)))\n",
    "\n",
    "#currencies = _get_currence_resource('items')\n",
    "currencies = _get_currence_resource('items', lambda x: x['code'].upper())\n",
    "\n",
    "\n",
    "print(currencies)\n",
    "print(get_currencies())\n",
    "print(calculate_in_all_currencies(1000))"
   ]
  },
  {
   "cell_type": "code",
   "execution_count": 241,
   "metadata": {
    "collapsed": true
   },
   "outputs": [],
   "source": [
    "#Unitest: just test wether something is work properly\n",
    "import unittest"
   ]
  },
  {
   "cell_type": "code",
   "execution_count": 284,
   "metadata": {},
   "outputs": [],
   "source": [
    "class CurrencyTest(unittest.TestCase):\n",
    "    \n",
    "    def test_create_currency(self):\n",
    "        pounds = Currency('GBP', 1.21)\n",
    "        \n",
    "        self.assertEqual(pounds.code, 'GBP')\n",
    "        self.assertEqual(pounds.exchange_to_usd, 1.21)\n",
    "    \n",
    "    def test_set_amount(self):\n",
    "        pound = Currency('GBP', 1.21)\n",
    "        euros = Currency('EUR',1.07)\n",
    "        \n",
    "        pounds.set_amount(5000)\n",
    "        euros.set_amount(10)\n",
    "        \n",
    "        self.assertEqual(pounds.amount, 5000)\n",
    "        self.assertEqual(euros.amount, 10)\n",
    "    \n",
    "    def test_compare_currency(self):\n",
    "        pounds = Currency('GBP', 1.21)\n",
    "        euros = Currency('EUR', 1.07)\n",
    "        \n",
    "        pounds.set_amount(5000)\n",
    "        euros.set_amount(10)\n",
    "        \n",
    "        self.assertTrue(pounds > euros)\n",
    "    \n",
    "    def test_compare_currency_eaual_value(self):\n",
    "        pounds = Currency('GBP', 1.21)\n",
    "        pounds = Currency('GBP', 1.21)\n",
    "        \n",
    "        pounds.set_amount(500)\n",
    "        pounds2.set_amount(500)\n",
    "        \n",
    "        self.assertTrue(pounds >= pounds)\n",
    "        self.assertTrue(pounds <= pounds)\n",
    "        self.assertTrue(pounds == pounds)\n",
    "        \n",
    "        self.assertFalse(pounds > pounds)\n",
    "        self.assertFalse(pounds < pounds)\n",
    "        \n",
    "    def test_in_currency(self):\n",
    "        pounds = Currency('GBP', 1.21)\n",
    "        self.assertEqual(pounds.in_currency(1210), 1000)\n",
    "        \n",
    "    def test_comparsion_with_exceptions(self):\n",
    "        pounds = Currency('GBP', 1.21)\n",
    "        pounds.set_amount(1000)\n",
    "        \n",
    "       # self.assertTrue(pounds == 1000)\n",
    "        with self.assertRaises(AttributeError):\n",
    "            pounds == 1000\n",
    "        "
   ]
  },
  {
   "cell_type": "code",
   "execution_count": 283,
   "metadata": {},
   "outputs": [
    {
     "ename": "AttributeError",
     "evalue": "'int' object has no attribute 'to_usd'",
     "output_type": "error",
     "traceback": [
      "\u001b[1;31m---------------------------------------------------------------------------\u001b[0m",
      "\u001b[1;31mAttributeError\u001b[0m                            Traceback (most recent call last)",
      "\u001b[1;32m<ipython-input-283-da1c386da4f7>\u001b[0m in \u001b[0;36m<module>\u001b[1;34m()\u001b[0m\n\u001b[0;32m      9\u001b[0m \u001b[0mresult\u001b[0m\u001b[1;33m.\u001b[0m\u001b[0mtest_create_currency\u001b[0m\u001b[1;33m(\u001b[0m\u001b[1;33m)\u001b[0m\u001b[1;33m\u001b[0m\u001b[0m\n\u001b[0;32m     10\u001b[0m \u001b[0mresult\u001b[0m\u001b[1;33m.\u001b[0m\u001b[0mtest_in_currency\u001b[0m\u001b[1;33m(\u001b[0m\u001b[1;33m)\u001b[0m\u001b[1;33m\u001b[0m\u001b[0m\n\u001b[1;32m---> 11\u001b[1;33m \u001b[0mresult\u001b[0m\u001b[1;33m.\u001b[0m\u001b[0mtest_comparsion_with_exceptions\u001b[0m\u001b[1;33m(\u001b[0m\u001b[1;33m)\u001b[0m\u001b[1;33m\u001b[0m\u001b[0m\n\u001b[0m",
      "\u001b[1;32m<ipython-input-282-278d104121d7>\u001b[0m in \u001b[0;36mtest_comparsion_with_exceptions\u001b[1;34m(self)\u001b[0m\n\u001b[0;32m     50\u001b[0m        \u001b[1;31m# self.assertTrue(pounds == 1000)\u001b[0m\u001b[1;33m\u001b[0m\u001b[1;33m\u001b[0m\u001b[0m\n\u001b[0;32m     51\u001b[0m         \u001b[1;32mwith\u001b[0m \u001b[0mself\u001b[0m\u001b[1;33m.\u001b[0m\u001b[0massertRaises\u001b[0m\u001b[1;33m(\u001b[0m\u001b[0mValueError\u001b[0m\u001b[1;33m)\u001b[0m\u001b[1;33m:\u001b[0m\u001b[1;33m\u001b[0m\u001b[0m\n\u001b[1;32m---> 52\u001b[1;33m             \u001b[0mpounds\u001b[0m \u001b[1;33m==\u001b[0m \u001b[1;36m1000\u001b[0m\u001b[1;33m\u001b[0m\u001b[0m\n\u001b[0m\u001b[0;32m     53\u001b[0m \u001b[1;33m\u001b[0m\u001b[0m\n",
      "\u001b[1;32m<ipython-input-268-835b06bdff7c>\u001b[0m in \u001b[0;36m__eq__\u001b[1;34m(***failed resolving arguments***)\u001b[0m\n\u001b[0;32m     31\u001b[0m \u001b[1;33m\u001b[0m\u001b[0m\n\u001b[0;32m     32\u001b[0m     \u001b[1;32mdef\u001b[0m \u001b[0m__eq__\u001b[0m\u001b[1;33m(\u001b[0m\u001b[0mself\u001b[0m\u001b[1;33m,\u001b[0m\u001b[0mother\u001b[0m\u001b[1;33m)\u001b[0m\u001b[1;33m:\u001b[0m\u001b[1;33m\u001b[0m\u001b[0m\n\u001b[1;32m---> 33\u001b[1;33m         \u001b[1;32mreturn\u001b[0m \u001b[0mself\u001b[0m\u001b[1;33m.\u001b[0m\u001b[0mto_usd\u001b[0m\u001b[1;33m(\u001b[0m\u001b[1;33m)\u001b[0m \u001b[1;33m==\u001b[0m \u001b[0mother\u001b[0m\u001b[1;33m.\u001b[0m\u001b[0mto_usd\u001b[0m\u001b[1;33m(\u001b[0m\u001b[1;33m)\u001b[0m\u001b[1;33m\u001b[0m\u001b[0m\n\u001b[0m\u001b[0;32m     34\u001b[0m \u001b[1;33m\u001b[0m\u001b[0m\n\u001b[0;32m     35\u001b[0m \u001b[1;32mdef\u001b[0m \u001b[0m_get_currence_resource\u001b[0m\u001b[1;33m(\u001b[0m\u001b[0mresource\u001b[0m\u001b[1;33m,\u001b[0m \u001b[0mtransform\u001b[0m\u001b[1;33m=\u001b[0m\u001b[1;33m(\u001b[0m\u001b[1;32mlambda\u001b[0m \u001b[0mx\u001b[0m\u001b[1;33m:\u001b[0m\u001b[0mx\u001b[0m\u001b[1;33m)\u001b[0m\u001b[1;33m)\u001b[0m\u001b[1;33m:\u001b[0m\u001b[1;33m\u001b[0m\u001b[0m\n",
      "\u001b[1;31mAttributeError\u001b[0m: 'int' object has no attribute 'to_usd'"
     ]
    }
   ],
   "source": [
    "'''\n",
    "python -m unittest test_module1 test_module2\n",
    "python -m unittest test_module.TestClass\n",
    "python -m unittest test_module.TestClass.test_method\n",
    "\n",
    "'''\n",
    "result = CurrencyTest()\n",
    "\n",
    "result.test_create_currency()\n",
    "result.test_in_currency()\n",
    "result.test_comparsion_with_exceptions()"
   ]
  },
  {
   "cell_type": "code",
   "execution_count": null,
   "metadata": {
    "collapsed": true
   },
   "outputs": [],
   "source": []
  },
  {
   "cell_type": "code",
   "execution_count": null,
   "metadata": {
    "collapsed": true
   },
   "outputs": [],
   "source": []
  },
  {
   "cell_type": "code",
   "execution_count": null,
   "metadata": {
    "collapsed": true
   },
   "outputs": [],
   "source": []
  },
  {
   "cell_type": "code",
   "execution_count": null,
   "metadata": {
    "collapsed": true
   },
   "outputs": [],
   "source": []
  },
  {
   "cell_type": "code",
   "execution_count": null,
   "metadata": {
    "collapsed": true
   },
   "outputs": [],
   "source": []
  },
  {
   "cell_type": "code",
   "execution_count": null,
   "metadata": {
    "collapsed": true
   },
   "outputs": [],
   "source": []
  },
  {
   "cell_type": "code",
   "execution_count": null,
   "metadata": {
    "collapsed": true
   },
   "outputs": [],
   "source": []
  },
  {
   "cell_type": "code",
   "execution_count": null,
   "metadata": {
    "collapsed": true
   },
   "outputs": [],
   "source": []
  },
  {
   "cell_type": "code",
   "execution_count": null,
   "metadata": {
    "collapsed": true
   },
   "outputs": [],
   "source": []
  },
  {
   "cell_type": "code",
   "execution_count": null,
   "metadata": {
    "collapsed": true
   },
   "outputs": [],
   "source": []
  },
  {
   "cell_type": "code",
   "execution_count": null,
   "metadata": {
    "collapsed": true
   },
   "outputs": [],
   "source": []
  },
  {
   "cell_type": "code",
   "execution_count": null,
   "metadata": {
    "collapsed": true
   },
   "outputs": [],
   "source": []
  },
  {
   "cell_type": "code",
   "execution_count": null,
   "metadata": {
    "collapsed": true
   },
   "outputs": [],
   "source": []
  },
  {
   "cell_type": "code",
   "execution_count": null,
   "metadata": {
    "collapsed": true
   },
   "outputs": [],
   "source": []
  },
  {
   "cell_type": "code",
   "execution_count": null,
   "metadata": {
    "collapsed": true
   },
   "outputs": [],
   "source": []
  },
  {
   "cell_type": "code",
   "execution_count": null,
   "metadata": {
    "collapsed": true
   },
   "outputs": [],
   "source": []
  },
  {
   "cell_type": "code",
   "execution_count": null,
   "metadata": {
    "collapsed": true
   },
   "outputs": [],
   "source": []
  },
  {
   "cell_type": "code",
   "execution_count": null,
   "metadata": {
    "collapsed": true
   },
   "outputs": [],
   "source": []
  },
  {
   "cell_type": "code",
   "execution_count": null,
   "metadata": {
    "collapsed": true
   },
   "outputs": [],
   "source": []
  },
  {
   "cell_type": "code",
   "execution_count": null,
   "metadata": {
    "collapsed": true
   },
   "outputs": [],
   "source": []
  },
  {
   "cell_type": "code",
   "execution_count": null,
   "metadata": {
    "collapsed": true
   },
   "outputs": [],
   "source": []
  },
  {
   "cell_type": "code",
   "execution_count": null,
   "metadata": {
    "collapsed": true
   },
   "outputs": [],
   "source": []
  }
 ],
 "metadata": {
  "kernelspec": {
   "display_name": "Python 3",
   "language": "python",
   "name": "python3"
  },
  "language_info": {
   "codemirror_mode": {
    "name": "ipython",
    "version": 3
   },
   "file_extension": ".py",
   "mimetype": "text/x-python",
   "name": "python",
   "nbconvert_exporter": "python",
   "pygments_lexer": "ipython3",
   "version": "3.6.1"
  }
 },
 "nbformat": 4,
 "nbformat_minor": 2
}
